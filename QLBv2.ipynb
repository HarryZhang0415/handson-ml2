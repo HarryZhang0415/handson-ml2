{
  "nbformat": 4,
  "nbformat_minor": 0,
  "metadata": {
    "coursera": {
      "course_slug": "reinforcement-learning-in-finance"
    },
    "kernelspec": {
      "display_name": "Python 3",
      "language": "python",
      "name": "python3"
    },
    "language_info": {
      "codemirror_mode": {
        "name": "ipython",
        "version": 3
      },
      "file_extension": ".py",
      "mimetype": "text/x-python",
      "name": "python",
      "nbconvert_exporter": "python",
      "pygments_lexer": "ipython3",
      "version": "3.6.0"
    },
    "colab": {
      "name": "Discrete-Time Black Scholes using RL (1).ipynb",
      "provenance": []
    }
  },
  "cells": [
    {
      "cell_type": "markdown",
      "metadata": {
        "id": "qgIbDxIRotF1",
        "colab_type": "text"
      },
      "source": [
        "## Discrete-Time Black Scholes\n",
        "Welcome to your notebook on Reinforcement Learning in Finance. This exercise will introduce Black-Scholes model as viewed through the lens of pricing an option as discrete-time replicating portfolio of stock and bond.\n",
        "\n",
        "**Instructions:**\n",
        "- You will be using Python 3.\n",
        "- Avoid using for-loops and while-loops, unless you are explicitly told to do so.\n",
        "\n",
        "Let's get started!"
      ]
    },
    {
      "cell_type": "code",
      "metadata": {
        "trusted": true,
        "id": "NHIFP5y7otF2",
        "colab_type": "code",
        "colab": {}
      },
      "source": [
        "import numpy as np\n",
        "import pandas as pd\n",
        "import matplotlib.pyplot as plt\n",
        "%matplotlib inline\n",
        "\n",
        "from numpy.random import standard_normal, seed\n",
        "\n",
        "import scipy.stats as stats\n",
        "from scipy.stats import norm\n",
        "\n",
        "import sys\n",
        "import datetime \n",
        "import time\n"
      ],
      "execution_count": 0,
      "outputs": []
    },
    {
      "cell_type": "code",
      "metadata": {
        "trusted": true,
        "id": "kuy4LRe4otF5",
        "colab_type": "code",
        "colab": {
          "base_uri": "https://localhost:8080/",
          "height": 342
        },
        "outputId": "035e6c8c-4de0-430c-deca-7daf5318edd0"
      },
      "source": [
        "!pip install yfinance\n",
        "import bspline\n",
        "import bspline.splinelab as spline\n",
        "import yfinance as yf"
      ],
      "execution_count": 11,
      "outputs": [
        {
          "output_type": "stream",
          "text": [
            "Collecting yfinance\n",
            "  Downloading https://files.pythonhosted.org/packages/c2/31/8b374a12b90def92a4e27d0fc595fc43635f395984e36a075244d98bd265/yfinance-0.1.54.tar.gz\n",
            "Requirement already satisfied: pandas>=0.24 in /usr/local/lib/python3.6/dist-packages (from yfinance) (1.0.3)\n",
            "Requirement already satisfied: numpy>=1.15 in /usr/local/lib/python3.6/dist-packages (from yfinance) (1.18.4)\n",
            "Requirement already satisfied: requests>=2.20 in /usr/local/lib/python3.6/dist-packages (from yfinance) (2.23.0)\n",
            "Requirement already satisfied: multitasking>=0.0.7 in /usr/local/lib/python3.6/dist-packages (from yfinance) (0.0.9)\n",
            "Requirement already satisfied: pytz>=2017.2 in /usr/local/lib/python3.6/dist-packages (from pandas>=0.24->yfinance) (2018.9)\n",
            "Requirement already satisfied: python-dateutil>=2.6.1 in /usr/local/lib/python3.6/dist-packages (from pandas>=0.24->yfinance) (2.8.1)\n",
            "Requirement already satisfied: certifi>=2017.4.17 in /usr/local/lib/python3.6/dist-packages (from requests>=2.20->yfinance) (2020.4.5.1)\n",
            "Requirement already satisfied: urllib3!=1.25.0,!=1.25.1,<1.26,>=1.21.1 in /usr/local/lib/python3.6/dist-packages (from requests>=2.20->yfinance) (1.24.3)\n",
            "Requirement already satisfied: chardet<4,>=3.0.2 in /usr/local/lib/python3.6/dist-packages (from requests>=2.20->yfinance) (3.0.4)\n",
            "Requirement already satisfied: idna<3,>=2.5 in /usr/local/lib/python3.6/dist-packages (from requests>=2.20->yfinance) (2.9)\n",
            "Requirement already satisfied: six>=1.5 in /usr/local/lib/python3.6/dist-packages (from python-dateutil>=2.6.1->pandas>=0.24->yfinance) (1.12.0)\n",
            "Building wheels for collected packages: yfinance\n",
            "  Building wheel for yfinance (setup.py) ... \u001b[?25l\u001b[?25hdone\n",
            "  Created wheel for yfinance: filename=yfinance-0.1.54-py2.py3-none-any.whl size=22409 sha256=1f7198cfd59cfd303d70e1eb5cb90456e66d9aa0a546386758a73f3644bc0823\n",
            "  Stored in directory: /root/.cache/pip/wheels/f9/e3/5b/ec24dd2984b12d61e0abf26289746c2436a0e7844f26f2515c\n",
            "Successfully built yfinance\n",
            "Installing collected packages: yfinance\n",
            "Successfully installed yfinance-0.1.54\n"
          ],
          "name": "stdout"
        }
      ]
    },
    {
      "cell_type": "code",
      "metadata": {
        "trusted": true,
        "id": "_guUVs_hotF9",
        "colab_type": "code",
        "colab": {}
      },
      "source": [
        "# The Black-Scholes prices\n",
        "def bs_put(t, S0, K, r, sigma, T):\n",
        "    d1 = (np.log(S0/K) + (r + 1/2 * sigma**2) * (T-t)) / sigma / np.sqrt(T-t)\n",
        "    d2 = (np.log(S0/K) + (r - 1/2 * sigma**2) * (T-t)) / sigma / np.sqrt(T-t)\n",
        "    price = K * np.exp(-r * (T-t)) * norm.cdf(-d2) - S0 * norm.cdf(-d1)\n",
        "    return price\n",
        "\n",
        "def bs_call(t, S0, K, r, sigma, T):\n",
        "    d1 = (np.log(S0/K) + (r + 1/2 * sigma**2) * (T-t)) / sigma / np.sqrt(T-t)\n",
        "    d2 = (np.log(S0/K) + (r - 1/2 * sigma**2) * (T-t)) / sigma / np.sqrt(T-t)\n",
        "    price = S0 * norm.cdf(d1) - K * np.exp(-r * (T-t)) * norm.cdf(d2)\n",
        "    return price\n",
        "\n",
        "def d1(S0, K, r, sigma, T):\n",
        "    return (np.log(S0/K) + (r + sigma**2 / 2) * T)/(sigma * np.sqrt(T))\n",
        " \n",
        "def d2(S0, K, r, sigma, T):\n",
        "    return (np.log(S0 / K) + (r - sigma**2 / 2) * T) / (sigma * np.sqrt(T))\n",
        " "
      ],
      "execution_count": 0,
      "outputs": []
    },
    {
      "cell_type": "markdown",
      "metadata": {
        "id": "yWvlDjKmotGA",
        "colab_type": "text"
      },
      "source": [
        "Simulate $N_{MC}$ stock price sample paths with $T$ steps by the classical Black-Sholes formula.\n",
        "\n",
        "$$dS_t=\\mu S_tdt+\\sigma S_tdW_t\\quad\\quad S_{t+1}=S_te^{\\left(\\mu-\\frac{1}{2}\\sigma^2\\right)\\Delta t+\\sigma\\sqrt{\\Delta t}Z}$$\n",
        "\n",
        "where $Z$ is a standard normal random variable.\n",
        "\n",
        "MC paths are simulated by GeneratePaths() method of DiscreteBlackScholes class."
      ]
    },
    {
      "cell_type": "markdown",
      "metadata": {
        "id": "nA81iZcaotGB",
        "colab_type": "text"
      },
      "source": [
        "### Part 1\n",
        "\n",
        "\n",
        "Class DiscreteBlackScholes implements the above calculations with class variables to math symbols mapping of:\n",
        "\n",
        "$$\\Delta S_t=S_{t+1} - e^{-r\\Delta t} S_t\\space \\quad t=T-1,...,0$$\n",
        " \n",
        "**Instructions:**\n",
        "Some portions of code in DiscreteBlackScholes have bee taken out. You are to implement the missing portions of code in DiscreteBlackScholes class.\n",
        "\n",
        "$$\\Pi_t=e^{-r\\Delta t}\\left[\\Pi_{t+1}-u_t \\Delta S_t\\right]\\quad t=T-1,...,0$$\n",
        "\n",
        "- implement DiscreteBlackScholes.function_A_vec() method\n",
        "$$A_{nm}^{\\left(t\\right)}=\\sum_{k=1}^{N_{MC}}{\\Phi_n\\left(X_t^k\\right)\\Phi_m\\left(X_t^k\\right)\\left(\\Delta\\hat{S}_t^k\\right)^2}\\quad\\quad$$ \n",
        "\n",
        "- implement DiscreteBlackScholes.function_B_vec() method\n",
        "$$B_n^{\\left(t\\right)}=\\sum_{k=1}^{N_{MC}}{\\Phi_n\\left(X_t^k\\right)\\left[\\hat\\Pi_{t+1}^k\\Delta\\hat{S}_t^k+\\frac{1}{2\\gamma\\lambda}\\Delta S_t^k\\right]}$$\n",
        "- implement DiscreteBlackScholes.gen_paths() method using the following relation:\n",
        "$$S_{t+1}=S_te^{\\left(\\mu-\\frac{1}{2}\\sigma^2\\right)\\Delta t+\\sigma\\sqrt{\\Delta t}Z}$$\n",
        "where $Z \\sim N(0,1)$\n",
        "- implement parts of DiscreteBlackScholes.roll_backward()\n",
        "    - DiscreteBlackScholes.bVals corresponds to $B_t$ and is computed as $$B_t = e^{-r\\Delta t}\\left[B_{t+1} + (u_{t+1} - u_t)S_{t+1}\\right]\\quad t=T-1,...,0$$\n",
        "    \n",
        "DiscreteBlackScholes.opt_hedge corresponds to $\\phi_t$ and is computed as \n",
        "     $$\\phi_t=\\mathbf A_t^{-1}\\mathbf B_t$$"
      ]
    },
    {
      "cell_type": "code",
      "metadata": {
        "trusted": true,
        "id": "FbzBLqI-otGB",
        "colab_type": "code",
        "colab": {}
      },
      "source": [
        "class DiscreteBlackScholes:\n",
        "    \"\"\"\n",
        "    Class implementing discrete Black Scholes\n",
        "    DiscreteBlackScholes is class for pricing and hedging under\n",
        "    the real-world measure for a one-dimensional Black-Scholes setting\n",
        "    \"\"\"\n",
        "\n",
        "    def __init__(self,\n",
        "                 s0,\n",
        "                 strike,\n",
        "                 vol,\n",
        "                 T,\n",
        "                 r,\n",
        "                 mu,\n",
        "                 numSteps,\n",
        "                 numPaths):\n",
        "        \"\"\"\n",
        "        :param s0: initial price of the underlying\n",
        "        :param strike: option strike\n",
        "        :param vol: volatility\n",
        "        :param T: time to maturity, in years\n",
        "        :param r: risk-free rate,\n",
        "        :param mu: real drift, asset drift\n",
        "        :param numSteps: number of time steps\n",
        "        :param numPaths: number of Monte Carlo paths\n",
        "        \"\"\"\n",
        "        self.s0 = s0\n",
        "        self.strike = strike\n",
        "        self.vol = vol\n",
        "        self.T = T\n",
        "        self.r = r\n",
        "        self.mu = mu\n",
        "        self.numSteps = numSteps\n",
        "        self.numPaths = numPaths\n",
        "\n",
        "        self.dt = self.T / self.numSteps  # time step\n",
        "        self.gamma = np.exp(-r * self.dt)  # discount factor for one time step, i.e. gamma in the QLBS paper\n",
        "\n",
        "        self.sVals = np.zeros((self.numPaths, self.numSteps + 1), 'float')  # matrix of stock values\n",
        "\n",
        "        # initialize half of the paths with stock price values ranging from 0.5 to 1.5 of s0\n",
        "        # the other half of the paths start with s0\n",
        "        half_paths = int(numPaths / 2)\n",
        "\n",
        "        if False:\n",
        "            # Grau (2010) \"Applications of Least-Squares Regressions to Pricing and Hedging of Financial Derivatives\"\n",
        "            self.sVals[:, 0] = (np.hstack((np.linspace(0.5 * s0, 1.5 * s0, half_paths),\n",
        "                                           s0 * np.ones(half_paths, 'float')))).T\n",
        "\n",
        "        self.sVals[:, 0] = s0 * np.ones(numPaths, 'float')\n",
        "        self.optionVals = np.zeros((self.numPaths, self.numSteps + 1), 'float')  # matrix of option values\n",
        "        self.intrinsicVals = np.zeros((self.numPaths, self.numSteps + 1), 'float')\n",
        "\n",
        "        self.bVals = np.zeros((self.numPaths, self.numSteps + 1), 'float')  # matrix of cash position values\n",
        "        self.opt_hedge = np.zeros((self.numPaths, self.numSteps + 1),\n",
        "                              'float')  # matrix of optimal hedges calculated from cross-sectional information F_t\n",
        "        self.X = None\n",
        "        self.data = None  # matrix of features, i.e. self.X as sum of basis functions\n",
        "        self.delta_S_hat = None\n",
        "\n",
        "        # coef = 1.0/(2 * gamma * risk_lambda)\n",
        "        # override it by zero to have pure risk hedge\n",
        "        self.coef = 0.\n",
        "\n",
        "    def gen_paths(self):\n",
        "        \"\"\"\n",
        "        A simplest path generator\n",
        "        \"\"\"\n",
        "        np.random.seed(42)\n",
        "        # Spline basis of order p on knots k\n",
        "\n",
        "        Z = np.random.normal(0, 1, size=(self.numSteps + 1, self.numPaths)).T\n",
        "        for t in range(0, self.numSteps):\n",
        "            self.sVals[:, t + 1] = self.sVals[:, t] * np.exp((self.mu - 0.5 * self.vol**2) * self.dt + (self.vol * np.sqrt(self.dt) * Z[:, t + 1]))\n",
        "        \n",
        "        print(self.sVals)\n",
        "\n",
        "        # like in QLBS\n",
        "        delta_S = self.sVals[:, 1:] - np.exp(self.r * self.dt) * self.sVals[:, :self.numSteps]\n",
        "        self.delta_S_hat = np.apply_along_axis(lambda x: x - np.mean(x), axis=0, arr=delta_S)\n",
        "\n",
        "        # state variable\n",
        "        # delta_t here is due to their conventions\n",
        "        self.X = - (self.mu - 0.5 * self.vol ** 2) * np.arange(self.numSteps + 1) * self.dt + np.log(self.sVals)\n",
        "\n",
        "        X_min = np.min(np.min(self.X))\n",
        "        X_max = np.max(np.max(self.X))\n",
        "\n",
        "        print('X.shape = ', self.X.shape)\n",
        "        print('X_min, X_max = ', X_min, X_max)\n",
        "\n",
        "        p = 4  # order of spline (as-is; 3 = cubic, 4: B-spline?)\n",
        "        ncolloc = 12\n",
        "        tau = np.linspace(X_min, X_max, ncolloc)  # These are the sites to which we would like to interpolate\n",
        "\n",
        "        # k is a knot vector that adds endpoints repeats as appropriate for a spline of order p\n",
        "        # To get meaningful results, one should have ncolloc >= p+1\n",
        "        #k = splinelab.aptknt(tau, p)\n",
        "        k = spline.aptknt(tau, p)\n",
        "        basis = bspline.Bspline(k, p)\n",
        "\n",
        "        num_basis = ncolloc  # len(k) #\n",
        "        self.data = np.zeros((self.numSteps + 1, self.numPaths, num_basis))\n",
        "\n",
        "        print('num_basis = ', num_basis)\n",
        "        print('dim self.data = ', self.data.shape)\n",
        "\n",
        "        # fill it, expand function in finite dimensional space\n",
        "        # in neural network the basis is the neural network itself\n",
        "        t_0 = time.time()\n",
        "        for ix in np.arange(self.numSteps + 1):\n",
        "            x = self.X[:, ix]\n",
        "            self.data[ix, :, :] = np.array([basis(el) for el in x])\n",
        "        t_end = time.time()\n",
        "        print('\\nTime Cost of basis expansion:', t_end - t_0, 'seconds')\n",
        "\n",
        "    def function_A_vec(self, t, reg_param=1e-3):\n",
        "        \"\"\"\n",
        "        function_A_vec - compute the matrix A_{nm} from Eq. (52) (with a regularization!)\n",
        "        Eq. (52) in QLBS Q-Learner in the Black-Scholes-Merton article\n",
        "\n",
        "        Arguments:\n",
        "        t - time index, a scalar, an index into time axis of data_mat\n",
        "        reg_param - a scalar, regularization parameter\n",
        "\n",
        "        Return:\n",
        "        - np.array, i.e. matrix A_{nm} of dimension num_basis x num_basis\n",
        "        \"\"\"\n",
        "        X_mat = self.data[t, :, :]\n",
        "        num_basis_funcs = X_mat.shape[1]\n",
        "        this_dS = self.delta_S_hat[:, t]\n",
        "        hat_dS2 = (this_dS ** 2).reshape(-1, 1)\n",
        "        A_mat = np.dot(X_mat.T, X_mat * hat_dS2) + reg_param * np.eye(num_basis_funcs)\n",
        "        return A_mat\n",
        "\n",
        "    def function_B_vec(self, t, Pi_hat):\n",
        "        \"\"\"\n",
        "        function_B_vec - compute vector B_{n} from Eq. (52) QLBS Q-Learner in the Black-Scholes-Merton article\n",
        "\n",
        "        Arguments:\n",
        "        t - time index, a scalar, an index into time axis of delta_S_hat\n",
        "        Pi_hat - pandas.DataFrame of dimension N_MC x T of portfolio values\n",
        "        Return:\n",
        "        B_vec - np.array() of dimension num_basis x 1\n",
        "        \"\"\"\n",
        "        tmp = Pi_hat * self.delta_S_hat[:, t] + self.coef * (np.exp((self.mu - self.r) * self.dt)) * self.sVals[:, t]\n",
        "        X_mat = self.data[t, :, :]  # matrix of dimension N_MC x num_basis\n",
        "\n",
        "        B_vec = np.dot(X_mat.T, tmp)\n",
        "        return B_vec\n",
        "\n",
        "    def seed_intrinsic(self, strike=None, cp='P'):\n",
        "        \"\"\"\n",
        "        initilaize option value and intrinsic value for each node\n",
        "        \"\"\"\n",
        "        if strike is not None:\n",
        "            self.strike = strike\n",
        "\n",
        "        if cp == 'P':\n",
        "            # payoff function at maturity T: max(K - S(T),0) for all paths\n",
        "            self.optionVals = np.maximum(self.strike - self.sVals[:, -1], 0).copy()\n",
        "            # payoff function for all paths, at all time slices\n",
        "            self.intrinsicVals = np.maximum(self.strike - self.sVals, 0).copy()\n",
        "        elif cp == 'C':\n",
        "            # payoff function at maturity T: max(S(T) -K,0) for all paths\n",
        "            self.optionVals = np.maximum(self.sVals[:, -1] - self.strike, 0).copy()\n",
        "            # payoff function for all paths, at all time slices\n",
        "            self.intrinsicVals = np.maximum(self.sVals - self.strike, 0).copy()\n",
        "        else:\n",
        "            raise Exception('Invalid parameter: %s'% cp)\n",
        "\n",
        "        self.bVals[:, -1] = self.intrinsicVals[:, -1]\n",
        "\n",
        "    def roll_backward(self):\n",
        "        \"\"\"\n",
        "        Roll the price and optimal hedge back in time starting from maturity\n",
        "        \"\"\"\n",
        "\n",
        "        for t in range(self.numSteps - 1, -1, -1):\n",
        "\n",
        "            # determine the expected portfolio value at the next time node\n",
        "            piNext = self.bVals[:, t+1] + self.opt_hedge[:, t+1] * self.sVals[:, t+1]\n",
        "            pi_hat = piNext - np.mean(piNext)\n",
        "\n",
        "            A_mat = self.function_A_vec(t)\n",
        "            B_vec = self.function_B_vec(t, pi_hat)\n",
        "            phi = np.dot(np.linalg.inv(A_mat), B_vec)\n",
        "            self.opt_hedge[:, t] = np.dot(self.data[t, :, :], phi)\n",
        "            self.bVals[:,t] = np.exp(-self.r * self.dt) * (self.bVals[:, t+1] + (self.opt_hedge[:, t+1] - self.opt_hedge[:, t]) * self.sVals[:, t+1])\n",
        "\n",
        "\n",
        "        # calculate the initial portfolio value\n",
        "        initPortfolioVal = self.bVals[:, 0] + self.opt_hedge[:, 0] * self.sVals[:, 0]\n",
        "\n",
        "        # use only the second half of the paths generated with paths starting from S0\n",
        "        optionVal = np.mean(initPortfolioVal)\n",
        "        optionValVar = np.std(initPortfolioVal)\n",
        "        delta = np.mean(self.opt_hedge[:, 0])\n",
        "\n",
        "        return optionVal, delta, optionValVar"
      ],
      "execution_count": 0,
      "outputs": []
    },
    {
      "cell_type": "markdown",
      "metadata": {
        "id": "TfjW1blAsR5E",
        "colab_type": "text"
      },
      "source": [
        "# Start Here after running above. --- ^^^^everything above is function setup^^^^ ---"
      ]
    },
    {
      "cell_type": "code",
      "metadata": {
        "trusted": true,
        "id": "pVgq7rqWotGF",
        "colab_type": "code",
        "colab": {
          "base_uri": "https://localhost:8080/",
          "height": 675
        },
        "outputId": "91a4ecef-831b-4523-dee2-e911116fcb4e"
      },
      "source": [
        "# Get real data\n",
        "\n",
        "\n",
        "symbol='BA'\n",
        "asset_df = yf.download(symbol, \n",
        "                      start='2014-05-01', \n",
        "                      end='2020-05-03', \n",
        "                      progress=False)\n",
        "\n",
        "assetCls=asset_df['Adj Close']\n",
        "\n",
        "asset_df['Log_Ret'] = np.log(asset_df['Close'] / asset_df['Close'].shift(1))\n",
        "assetRets=asset_df['Log_Ret'].to_numpy()\n",
        "\n",
        "assetRets=assetRets[1:,]\n",
        "assetRets=assetCls.pct_change()/100\n",
        "assetRets=assetRets[1:]\n",
        "\n",
        "print(np.mean(assetRets))\n",
        "\n",
        "num_paths = 1000\n",
        "num_periods = 252\n",
        "\n",
        "\n",
        "def random_sample(data=None, timesteps=100, batch_size=100):\n",
        "    lenDat=data.shape[0]\n",
        "    ret_data = np.empty((batch_size,timesteps))\n",
        "\n",
        "    for i in range(0,batch_size):\n",
        "        start_idx = np.random.randint(0, lenDat-timesteps-1)\n",
        "        d = data[start_idx:start_idx+timesteps]\n",
        "        ret_data[i,0:]=d\n",
        "    return ret_data\n",
        "\n",
        "retsMatrix=random_sample(assetRets,num_periods,num_paths)\n",
        "\n",
        "test_vol=asset_df['Log_Ret'].std() * np.sqrt(252)\n",
        "test_mu=np.log(assetCls[-1]/assetCls[0])/(assetCls.shape[0]/252)\n",
        "print(test_vol)\n",
        "print(test_mu)\n",
        "\n",
        "# pick paths for real option fit\n",
        "\n",
        "\n",
        "# Get data for simulated result\n",
        "np.random.seed(42)\n",
        "strike_k = 95\n",
        "#test_vol = 0.2\n",
        "#test_mu = 0.03\n",
        "dt = 0.01\n",
        "rfr = 0.05\n",
        "\n",
        "\n",
        "# get RL option values using simulated data\n",
        "hMC = DiscreteBlackScholes(100, strike_k, test_vol, 1., rfr, test_mu, num_periods, num_paths)\n",
        "hMC.gen_paths()\n",
        "\n",
        "\n",
        "t = hMC.numSteps - 1\n",
        "piNext = hMC.bVals[:, t+1] + 0.1 * hMC.sVals[:, t+1]\n",
        "pi_hat = piNext - np.mean(piNext)\n",
        "\n",
        "A_mat = hMC.function_A_vec(t)\n",
        "B_vec = hMC.function_B_vec(t, pi_hat)\n",
        "phi = np.dot(np.linalg.inv(A_mat), B_vec)\n",
        "opt_hedge = np.dot(hMC.data[t, :, :], phi)\n",
        "\n",
        "# plot the results\n",
        "fig = plt.figure(figsize=(12,4))\n",
        "ax1 = fig.add_subplot(121)\n",
        "\n",
        "ax1.scatter(hMC.sVals[:,t], pi_hat)\n",
        "ax1.set_title(r'Expected $\\Pi_0$ vs. $S_t$')\n",
        "ax1.set_xlabel(r'$S_t$')\n",
        "ax1.set_ylabel(r'$\\Pi_0$')\n",
        "\n",
        "\n",
        "    \n"
      ],
      "execution_count": 16,
      "outputs": [
        {
          "output_type": "stream",
          "text": [
            "4.027770813919196e-06\n",
            "0.37273678070971333\n",
            "0.03276969400915947\n",
            "[[100.         103.32524422 101.68530252 ... 174.17600532 181.72446318\n",
            "  173.4096136 ]\n",
            " [100.         102.1799176  101.81894704 ... 108.48366409 106.12036984\n",
            "  107.08517384]\n",
            " [100.         100.12552992  98.26548928 ... 104.35638904 104.73786183\n",
            "  106.30268703]\n",
            " ...\n",
            " [100.          97.93636805  95.10823333 ...  78.78703585  77.44310503\n",
            "   76.69760445]\n",
            " [100.          99.60334195 100.37333944 ... 119.74269396 118.55089109\n",
            "  117.288485  ]\n",
            " [100.          98.25185134  97.88007031 ...  73.80590585  76.81099416\n",
            "   77.32621943]]\n",
            "X.shape =  (1000, 253)\n",
            "X_min, X_max =  3.384177655882019 5.748109864727805\n",
            "num_basis =  12\n",
            "dim self.data =  (253, 1000, 12)\n",
            "\n",
            "Time Cost of basis expansion: 33.361369609832764 seconds\n"
          ],
          "name": "stdout"
        },
        {
          "output_type": "execute_result",
          "data": {
            "text/plain": [
              "Text(0, 0.5, '$\\\\Pi_0$')"
            ]
          },
          "metadata": {
            "tags": []
          },
          "execution_count": 16
        },
        {
          "output_type": "display_data",
          "data": {
            "image/png": "[encoded data removed]",
            "text/plain": [
              "<Figure size 864x288 with 1 Axes>"
            ]
          },
          "metadata": {
            "tags": [],
            "needs_background": "light"
          }
        }
      ]
    },
    {
      "cell_type": "code",
      "metadata": {
        "trusted": true,
        "id": "JIQXdKTsotGI",
        "colab_type": "code",
        "colab": {
          "base_uri": "https://localhost:8080/",
          "height": 391
        },
        "outputId": "ffab23f9-ffd4-419e-d16f-e4a7f122bc9d"
      },
      "source": [
        "# input parameters\n",
        "s0 = 100.0\n",
        "strike = 100.0\n",
        "r = 0.05\n",
        "mu = test_mu # 0.05\n",
        "vol = test_vol\n",
        "T = 1.0\n",
        "\n",
        "# Simulation Parameters\n",
        "numPaths = 5000  # number of Monte Carlo trials\n",
        "numSteps = 6\n",
        "\n",
        "# create the class object\n",
        "hMC = DiscreteBlackScholes(s0, strike, vol, T, r, mu, numSteps, numPaths)\n",
        "\n",
        "# calculation\n",
        "hMC.gen_paths()\n",
        "hMC.seed_intrinsic()\n",
        "option_val, delta, option_val_variance = hMC.roll_backward()\n",
        "bs_call_value = bs_put(0, s0, K=strike, r=r, sigma=vol, T=T)\n",
        "print('Option value = ', option_val)\n",
        "print('Option value variance = ', option_val_variance)\n",
        "print('Option delta = ', delta)  \n",
        "print('BS value', bs_call_value)"
      ],
      "execution_count": 23,
      "outputs": [
        {
          "output_type": "stream",
          "text": [
            "[[100.          93.1835239   83.53025029 ...  85.1275278   86.8372806\n",
            "   63.85008794]\n",
            " [100.          92.76398158  88.0103772  ...  90.32067564  89.93751837\n",
            "   76.13155312]\n",
            " [100.          75.62694042  68.63437442 ...  59.37276023  55.26340457\n",
            "   50.23274988]\n",
            " ...\n",
            " [100.          89.27545831 108.34148065 ... 131.35397395 120.96327901\n",
            "  106.09986621]\n",
            " [100.         107.17835368  93.11581622 ... 131.27115512  97.82602288\n",
            "   79.49002343]\n",
            " [100.         109.62989715 106.44119288 ...  82.37072537  79.0661523\n",
            "   71.01586301]]\n",
            "X.shape =  (5000, 7)\n",
            "X_min, X_max =  3.232426101688083 6.10203650861775\n",
            "num_basis =  12\n",
            "dim self.data =  (7, 5000, 12)\n",
            "\n",
            "Time Cost of basis expansion: 4.264025688171387 seconds\n",
            "Option value =  12.224542267977846\n",
            "Option value variance =  4.998610552593175\n",
            "Option delta =  -0.3575407841459484\n",
            "BS value 12.113414354854001\n"
          ],
          "name": "stdout"
        }
      ]
    },
    {
      "cell_type": "code",
      "metadata": {
        "trusted": true,
        "id": "lcsFjnYiotGM",
        "colab_type": "code",
        "colab": {
          "base_uri": "https://localhost:8080/",
          "height": 358
        },
        "outputId": "89f7b4d6-1830-4a7c-988b-8186dc4d0a4d"
      },
      "source": [
        "strikes = np.linspace(85, 110, 6)\n",
        "results = [None] * len(strikes)\n",
        "bs_prices = np.zeros(len(strikes))\n",
        "bs_deltas = np.zeros(len(strikes))\n",
        "numPaths = 5000\n",
        "hMC = DiscreteBlackScholes(s0, strike, vol, T, r, mu, numSteps, numPaths)\n",
        "hMC.gen_paths()\n",
        "for ix, k_strike in enumerate(strikes):\n",
        "    hMC.seed_intrinsic(k_strike)\n",
        "    results[ix] = hMC.roll_backward()\n",
        "    bs_prices[ix] = bs_put(0, s0, K=k_strike, r=r, sigma=vol, T=T)\n",
        "    bs_deltas[ix] = norm.cdf(d1(s0, K=k_strike, r=r, sigma=vol, T=T)) - 1\n",
        "bs_prices"
      ],
      "execution_count": 24,
      "outputs": [
        {
          "output_type": "stream",
          "text": [
            "[[100.          93.1835239   83.53025029 ...  85.1275278   86.8372806\n",
            "   63.85008794]\n",
            " [100.          92.76398158  88.0103772  ...  90.32067564  89.93751837\n",
            "   76.13155312]\n",
            " [100.          75.62694042  68.63437442 ...  59.37276023  55.26340457\n",
            "   50.23274988]\n",
            " ...\n",
            " [100.          89.27545831 108.34148065 ... 131.35397395 120.96327901\n",
            "  106.09986621]\n",
            " [100.         107.17835368  93.11581622 ... 131.27115512  97.82602288\n",
            "   79.49002343]\n",
            " [100.         109.62989715 106.44119288 ...  82.37072537  79.0661523\n",
            "   71.01586301]]\n",
            "X.shape =  (5000, 7)\n",
            "X_min, X_max =  3.232426101688083 6.10203650861775\n",
            "num_basis =  12\n",
            "dim self.data =  (7, 5000, 12)\n",
            "\n",
            "Time Cost of basis expansion: 4.239112138748169 seconds\n"
          ],
          "name": "stdout"
        },
        {
          "output_type": "execute_result",
          "data": {
            "text/plain": [
              "array([ 5.87825284,  7.6844941 ,  9.76566015, 12.11341435, 14.71509588,\n",
              "       17.55499572])"
            ]
          },
          "metadata": {
            "tags": []
          },
          "execution_count": 24
        }
      ]
    },
    {
      "cell_type": "code",
      "metadata": {
        "trusted": false,
        "id": "4VH4jjpHotGP",
        "colab_type": "code",
        "colab": {
          "base_uri": "https://localhost:8080/",
          "height": 50
        },
        "outputId": "61c603ac-4760-49ca-d03a-b3952fd467f2"
      },
      "source": [
        "mc_prices = np.array([x[0] for x in results])\n",
        "mc_deltas = np.array([x[1] for x in results])\n",
        "price_variances = np.array([x[-1] for x in results])\n",
        "prices_diff = mc_prices - bs_prices\n",
        "deltas_diff = mc_deltas - bs_deltas\n",
        "price_variances"
      ],
      "execution_count": 25,
      "outputs": [
        {
          "output_type": "execute_result",
          "data": {
            "text/plain": [
              "array([4.00965856, 4.40024443, 4.73864534, 4.99861055, 5.19890273,\n",
              "       5.36992181])"
            ]
          },
          "metadata": {
            "tags": []
          },
          "execution_count": 25
        }
      ]
    },
    {
      "cell_type": "code",
      "metadata": {
        "trusted": false,
        "id": "yc-pGlRDotGR",
        "colab_type": "code",
        "colab": {
          "base_uri": "https://localhost:8080/",
          "height": 50
        },
        "outputId": "822d1a3e-1b95-45f2-f5ce-ffa5fe93d56e"
      },
      "source": [
        "prices_diff\n"
      ],
      "execution_count": 26,
      "outputs": [
        {
          "output_type": "execute_result",
          "data": {
            "text/plain": [
              "array([-0.00266463,  0.02723668,  0.0607484 ,  0.11112791,  0.16129599,\n",
              "        0.18676325])"
            ]
          },
          "metadata": {
            "tags": []
          },
          "execution_count": 26
        }
      ]
    },
    {
      "cell_type": "code",
      "metadata": {
        "trusted": false,
        "id": "tohINP3totGU",
        "colab_type": "code",
        "colab": {
          "base_uri": "https://localhost:8080/",
          "height": 50
        },
        "outputId": "2f82e869-fba6-42e0-827e-fa8659a000cd"
      },
      "source": [
        "deltas_diff\n"
      ],
      "execution_count": 27,
      "outputs": [
        {
          "output_type": "execute_result",
          "data": {
            "text/plain": [
              "array([0.01306996, 0.01445299, 0.01524015, 0.01674959, 0.01887535,\n",
              "       0.02055147])"
            ]
          },
          "metadata": {
            "tags": []
          },
          "execution_count": 27
        }
      ]
    }
  ]
}